{
  "cells": [
    {
      "cell_type": "code",
      "execution_count": 72,
      "metadata": {
        "id": "EBsMRO8xhaJ4"
      },
      "outputs": [],
      "source": [
        "\n",
        "\n",
        "\n",
        "\n",
        "\n",
        "\n"
      ]
    },
    {
      "cell_type": "code",
      "execution_count": 8,
      "metadata": {
        "colab": {
          "base_uri": "https://localhost:8080/"
        },
        "id": "MoshluL18E5S",
        "outputId": "b1554db5-b475-42f0-c631-7bd8bc65681f"
      },
      "outputs": [
        {
          "name": "stdout",
          "output_type": "stream",
          "text": [
            "Detected texts: {'date_time': [], 'item': [[162, 327, 439, 343], [144, 342, 460, 358], [137, 646, 481, 666], [154, 666, 472, 686]], 'receipt': [[109, 710, 561, 1007]], 'shop': [[201, 138, 477, 167]], 'total': []}\n"
          ]
        }
      ],
      "source": [
        "import requests\n",
        "import base64\n",
        "\n",
        "# Encode an image to base64 (replace with your actual image)\n",
        "with open(\"Inference/1.jpg\", \"rb\") as img_file:\n",
        "    image_base64 = base64.b64encode(img_file.read()).decode(\"utf-8\")\n",
        "\n",
        "# Send a POST request to the endpoint\n",
        "url = \"http://172.20.10.3:3000/detect_text\"  # Replace with your server URL\n",
        "response = requests.post(url, json={\"image_base64\": image_base64})\n",
        "\n",
        "# Print the detected objects (assuming the response is in JSON format)\n",
        "if response.status_code == 200:\n",
        "    result = response.json()\n",
        "    image_base64=result[\"annotated_base64\"]\n",
        "    boxes=result[\"result\"]\n",
        "\n",
        "\n",
        "    print(f\"Detected texts: {boxes}\")\n",
        "    \n",
        "else:\n",
        "    print(f\"Error: {response.status_code}, {response.text}\")\n"
      ]
    },
    {
      "cell_type": "code",
      "execution_count": null,
      "metadata": {},
      "outputs": [],
      "source": [
        "\n",
        "    images_path=\"./*.jpg\"\n",
        "    output_folder_annotation=\"./\"\n",
        "    imgs_list=glob.glob(images_path)\n",
        "    for img_name in imgs_list :\n",
        "        base64_im=image_to_base64(img_name)\n",
        "        img=base64_to_cv2(base64_im)\n",
        "        result=onnx_inference(img)\n",
        "        image=draw_boxes(img,result)\n",
        "        cv2.imwrite(\"./\"+(output_folder_annotation+img_name.split(\"/\")[-1]),image)\n"
      ]
    }
  ],
  "metadata": {
    "colab": {
      "provenance": []
    },
    "kernelspec": {
      "display_name": "Python 3",
      "name": "python3"
    },
    "language_info": {
      "codemirror_mode": {
        "name": "ipython",
        "version": 3
      },
      "file_extension": ".py",
      "mimetype": "text/x-python",
      "name": "python",
      "nbconvert_exporter": "python",
      "pygments_lexer": "ipython3",
      "version": "3.10.10"
    }
  },
  "nbformat": 4,
  "nbformat_minor": 0
}
